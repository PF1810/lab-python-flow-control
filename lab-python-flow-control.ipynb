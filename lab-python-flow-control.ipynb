{
 "cells": [
  {
   "cell_type": "markdown",
   "id": "d3bfc191-8885-42ee-b0a0-bbab867c6f9f",
   "metadata": {
    "tags": []
   },
   "source": [
    "# Lab | Flow Control"
   ]
  },
  {
   "cell_type": "markdown",
   "id": "3851fcd1-cf98-4653-9c89-e003b7ec9400",
   "metadata": {},
   "source": [
    "## Exercise: Managing Customer Orders Optimized\n",
    "\n",
    "In the last lab, you were starting an online store that sells various products. To ensure smooth operations, you developed a program that manages customer orders and inventory.\n",
    "\n",
    "You did so without using flow control. Let's go a step further and improve this code.\n",
    "\n",
    "Follow the steps below to complete the exercise:\n",
    "\n",
    "1. Look at your code from the lab data structures, and improve repeated code with loops.\n",
    "\n",
    "2. Instead of asking the user to input the name of three products that a customer wants to order, do the following:\n",
    "    \n",
    "    a. Prompt the user to enter the name of a product that a customer wants to order.\n",
    "    \n",
    "    b. Add the product name to the \"customer_orders\" set.\n",
    "    \n",
    "    c. Ask the user if they want to add another product (yes/no).\n",
    "    \n",
    "    d. Continue the loop until the user does not want to add another product.\n",
    "\n",
    "3. Instead of updating the inventory by subtracting 1 from the quantity of each product, only do it for  the products that were ordered (those in \"customer_orders\")."
   ]
  },
  {
   "cell_type": "code",
   "execution_count": 3,
   "id": "65d7dff0",
   "metadata": {},
   "outputs": [
    {
     "name": "stdout",
     "output_type": "stream",
     "text": [
      "Please enter the name of the products from the following list in order: t-shirt, mug, hat, keychain\n",
      "\n",
      "Products in the customer_orders set:\n",
      "book\n",
      "hat\n",
      "t-shirt\n",
      "n\n",
      "Order Statistics:\n",
      "Total Products Ordered: 3\n",
      "Percentage of Products Ordered:  60.00%\n",
      "\n",
      "Updated inventory:\n",
      "t-shirt: 29\n",
      "mug: 20\n",
      "hat: 31\n",
      "book: 79\n",
      "keychain: 23\n"
     ]
    }
   ],
   "source": [
    "#1.Look at your code from the lab data structures, and improve repeated code with loops.\n",
    "\n",
    "products = [\"t-shirt\", \"mug\", \"hat\", \"book\", \"keychain\"]\n",
    "def create_inventory(products):\n",
    "    inventory = {}\n",
    "    for product in products:\n",
    "        quantity = int(input(f\"Enter the quantity of {product} available in inventory: \"))\n",
    "        inventory[product] = quantity\n",
    "    return inventory\n",
    "inventory = create_inventory(products)\n",
    "\n",
    "#2. Instead of asking the user to input the name of three products that a customer wants to order, do the following:\n",
    "    #a. Prompt the user to enter the name of a product that a customer wants to order.\n",
    "    #b. Add the product name to the \"customer_orders\" set.\n",
    "    #c. Ask the user if they want to add another product (yes/no).\n",
    "    #d. Continue the loop until the user does not want to add another product.\n",
    "\n",
    "customer_orders = set()\n",
    "\n",
    "print(\"Please enter the name of the products from the following list in order: t-shirt, mug, hat, keychain\")\n",
    "while True:\n",
    "    #Prompt the user to enter the name of a product that a customer wants to order, allowing the user to add as many products as they wish.\n",
    "    product_ordered = input(\"Enter product name: \").lower()\n",
    "    if product_ordered in products:\n",
    "        customer_orders.add(product_ordered)\n",
    "    else:\n",
    "        print(f\"{product_ordered} is not in the product list. Please try again.\")\n",
    "        continue\n",
    "    another = input(\"Do you want to add another product? (yes/no): \").lower()\n",
    "    if another != \"yes\":\n",
    "        break\n",
    "\n",
    "#3. Instead of updating the inventory by subtracting 1 from the quantity of each product, only do it for the products that were ordered (those in \"customer_orders\").\n",
    "\n",
    "print(\"\\nProducts in the customer_orders set:\")\n",
    "for product in customer_orders:\n",
    "    print(product)\n",
    "\n",
    "total_products_ordered = len(customer_orders)\n",
    "\n",
    "percentage_ordered = (total_products_ordered / len(products)) * 100\n",
    "\n",
    "order_status = (total_products_ordered, percentage_ordered)\n",
    "\n",
    "print(\"n\\nOrder Statistics:\")\n",
    "print(f\"Total Products Ordered: {order_status[0]}\")\n",
    "print(f\"Percentage of Products Ordered: {order_status[1]: .2f}%\")\n",
    "\n",
    "#check if the inventory quantity is greater than 0 before decrementing it, ensuring it does not go negative.\n",
    "for product in customer_orders:\n",
    "    if inventory[product] > 0:\n",
    "        inventory[product] -= 1\n",
    "\n",
    "print(\"\\nUpdated inventory:\")\n",
    "for product, quantity in inventory.items():\n",
    "    print(f\"{product}: {quantity}\")\n",
    "    \n"
   ]
  },
  {
   "cell_type": "code",
   "execution_count": null,
   "id": "f2ae81a2",
   "metadata": {},
   "outputs": [],
   "source": []
  }
 ],
 "metadata": {
  "kernelspec": {
   "display_name": "Python 3 (ipykernel)",
   "language": "python",
   "name": "python3"
  },
  "language_info": {
   "codemirror_mode": {
    "name": "ipython",
    "version": 3
   },
   "file_extension": ".py",
   "mimetype": "text/x-python",
   "name": "python",
   "nbconvert_exporter": "python",
   "pygments_lexer": "ipython3",
   "version": "3.11.7"
  }
 },
 "nbformat": 4,
 "nbformat_minor": 5
}
